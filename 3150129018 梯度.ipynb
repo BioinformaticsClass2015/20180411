{
 "cells": [
  {
   "cell_type": "code",
   "execution_count": null,
   "metadata": {},
   "outputs": [],
   "source": [
    "####求极值#####\n",
    "function inexact_method( f, g, φ0, φd0, xk, dk; t=0.5, ε=0.5, ξ=2)\n",
    "   α = 1\n",
    "   dα= g((xk .+ α .* dk)...)\n",
    "    while (abs(dα[1])<=0 && abs(dα[2])<=0)\n",
    "        α = ξ*α\n",
    "        dα= g((xk .+ α .* dk)...)\n",
    "    end\n",
    "    φα = f((xk .+ α .* dk)...)\n",
    "    while(φα>φ0+ε*α*φd0)\n",
    "        α  = t*α\n",
    "        φα= f((xk .+ α .* dk)...)\n",
    "    end\n",
    "    return α       \n",
    "end"
   ]
  },
  {
   "cell_type": "code",
   "execution_count": 2,
   "metadata": {},
   "outputs": [
    {
     "data": {
      "text/plain": [
       "0.5"
      ]
     },
     "execution_count": 2,
     "metadata": {},
     "output_type": "execute_result"
    }
   ],
   "source": [
    "inexact_method(\n",
    "    (x,y)->x^2+y^2,\n",
    "    (x,y)->[2*x 2*y]',\n",
    "    18,-5.656854249492381*5.656854249492381,[2; 2],[-4; -4])"
   ]
  },
  {
   "cell_type": "code",
   "execution_count": 3,
   "metadata": {},
   "outputs": [
    {
     "data": {
      "text/plain": [
       "g_d (generic function with 1 method)"
      ]
     },
     "execution_count": 3,
     "metadata": {},
     "output_type": "execute_result"
    }
   ],
   "source": [
    "function g_d(f,g,x0;maxIterations=128,cg=0.001,cx=0.001,cf=0.001,verbose=true)\n",
    "    x1=x0\n",
    "    d=-g(x1...)\n",
    "    f1=f(x1...)\n",
    "    ng=norm(d)###求膜\n",
    "    println(\"x1\", x1, \"\\td\", d, \"\\tf1\", f1,\"\\tng\", ng)\n",
    "    #inexact method for α\n",
    "    α=inexact_method(f, g, f1, -ng*ng, x1, d )\n",
    "    nx=α*ng\n",
    "    x2=x1+α.*d\n",
    "    f2=f(x2...)\n",
    "    ni=1\n",
    "    println(\"step \", ni,\" x \", x2,\" f \", f2)\n",
    "    println(\"    d\", d,\"   α\", α)\n",
    "    while(ng>cg || nx>cx || abs(f2-f1)>cf && ni<maxIterations)\n",
    "        x1=x2\n",
    "        d=-g(x1...)\n",
    "        f1=f2\n",
    "        ng=norm(d)\n",
    "        println(\"x1= \",x1,\"  \", x2,\" f \", f2)\n",
    "        α=inexact_method(f, g, f1, -ng*ng, x1, d )\n",
    "        x2=x1+α.*d\n",
    "        f2=f(x2...)        \n",
    "        nx=α*ng\n",
    "        ni+=1 \n",
    "        if verbose\n",
    "            println(\"step \", ni,\" x \", x2,\" f \", f2)\n",
    "            println(\"    d\", d,\"   α\", α)\n",
    "        end\n",
    "    end\n",
    "    if ni >= maxIterations\n",
    "        println(\"WARNING: iteration exceeds\",maxIterations)\n",
    "    end\n",
    "    return x2,f2\n",
    "end\n"
   ]
  },
  {
   "cell_type": "code",
   "execution_count": 6,
   "metadata": {},
   "outputs": [
    {
     "name": "stdout",
     "output_type": "stream",
     "text": [
      "x1[2; 2]\td[-4; -4]\tf18\tng5.656854249492381\n"
     ]
    },
    {
     "data": {
      "text/plain": [
       "([0.00012207; 0.00012207], 2.9802322387695312e-8)"
      ]
     },
     "execution_count": 6,
     "metadata": {},
     "output_type": "execute_result"
    }
   ],
   "source": [
    "g_d(\n",
    "    (x,y)->x^2+y^2,\n",
    "    (x,y)->[2*x 2*y]',\n",
    "    [2 2]',maxIterations=20000\n",
    "    \n",
    ")"
   ]
  },
  {
   "cell_type": "code",
   "execution_count": null,
   "metadata": {},
   "outputs": [],
   "source": [
    "g_d(\n",
    "    (x1,x2)->5*x1^2+x2^2+4*x1*x2-14*x1+20,\n",
    "    (x1,x2)->[10*x1+4*x2-14 2*x2+4x1-6]',\n",
    "    [1 0]',maxIterations=20000\n",
    "    \n",
    ")"
   ]
  },
  {
   "cell_type": "code",
   "execution_count": null,
   "metadata": {},
   "outputs": [],
   "source": []
  }
 ],
 "metadata": {
  "kernelspec": {
   "display_name": "Julia 0.6.2",
   "language": "julia",
   "name": "julia-0.6"
  },
  "language_info": {
   "file_extension": ".jl",
   "mimetype": "application/julia",
   "name": "julia",
   "version": "0.6.2"
  }
 },
 "nbformat": 4,
 "nbformat_minor": 2
}
