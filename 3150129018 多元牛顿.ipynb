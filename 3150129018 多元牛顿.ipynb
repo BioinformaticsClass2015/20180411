{
 "cells": [
  {
   "cell_type": "code",
   "execution_count": 69,
   "metadata": {},
   "outputs": [
    {
     "data": {
      "text/plain": [
       "newton_1d (generic function with 3 methods)"
      ]
     },
     "execution_count": 69,
     "metadata": {},
     "output_type": "execute_result"
    }
   ],
   "source": [
    "###牛顿法#####\n",
    "function newton_1d(f,g,h,x0,ε=eps(),maIterations=128)\n",
    "    x=x0\n",
    "    i=0\n",
    "    xg=g(x...)\n",
    "    println(\"\\txg\",xg)\n",
    "    while (norm(xg)>ε && i<=maIterations)\n",
    "        i+=1\n",
    "        h2=h(x...)\n",
    "        h1=inv(h2)\n",
    "        x=x-h1*xg\n",
    "        xg=g(x...)\n",
    "        println(i,\"\\t\",\"x=\",x,\"\\tederivative=\",xg)\n",
    "    end\n",
    "    return x,g(x...),f(x...)\n",
    "end"
   ]
  },
  {
   "cell_type": "code",
   "execution_count": 70,
   "metadata": {},
   "outputs": [
    {
     "name": "stdout",
     "output_type": "stream",
     "text": [
      "\txg[-2; 0]\n",
      "1\tx=[1.0; 0.0]\tederivative=[400.0; -200.0]\n",
      "2\tx=[1.0; 1.0]\tederivative=[-8.88178e-14; 4.44089e-14]\n",
      "3\tx=[1.0; 1.0]\tederivative=[-0.0; 0.0]\n"
     ]
    },
    {
     "data": {
      "text/plain": [
       "([1.0; 1.0], [-0.0; 0.0], 0.0)"
      ]
     },
     "execution_count": 70,
     "metadata": {},
     "output_type": "execute_result"
    }
   ],
   "source": [
    "newton_1d(\n",
    "    (x,y)->(1-x)^2+100*(y-x^2)^2,\n",
    "    (x,y)->[-2*(1-x)-400*x*(y-x^2) 200*(y-x^2)]',\n",
    "    (x,y)->[2+800*x^2-400*(y-x^2) -400*x;-400*x 200]',\n",
    "    [0 0]'\n",
    ")"
   ]
  },
  {
   "cell_type": "code",
   "execution_count": 3,
   "metadata": {},
   "outputs": [
    {
     "data": {
      "text/plain": [
       "2×2 Array{Int64,2}:\n",
       " 1  3\n",
       " 2  4"
      ]
     },
     "execution_count": 3,
     "metadata": {},
     "output_type": "execute_result"
    }
   ],
   "source": [
    "[1 2;3 4]'"
   ]
  },
  {
   "cell_type": "code",
   "execution_count": null,
   "metadata": {},
   "outputs": [],
   "source": []
  }
 ],
 "metadata": {
  "kernelspec": {
   "display_name": "Julia 0.6.2",
   "language": "julia",
   "name": "julia-0.6"
  },
  "language_info": {
   "file_extension": ".jl",
   "mimetype": "application/julia",
   "name": "julia",
   "version": "0.6.2"
  }
 },
 "nbformat": 4,
 "nbformat_minor": 2
}
