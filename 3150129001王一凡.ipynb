{
 "cells": [
  {
   "cell_type": "code",
   "execution_count": 36,
   "metadata": {},
   "outputs": [
    {
     "data": {
      "text/plain": [
       "inexact_method (generic function with 1 method)"
      ]
     },
     "execution_count": 36,
     "metadata": {},
     "output_type": "execute_result"
    }
   ],
   "source": [
    "function inexact_method(f, g, p0, pd0, xk, dk; t=0.5, e=0.5, c=2)\n",
    "    a = 1\n",
    "    da=dk'*g((xk .+ a.*dk)...)\n",
    "    while da <0\n",
    "        a = c*a\n",
    "        da=dk'*g((xk .+ a .*dk)...)\n",
    "    end\n",
    "    pa=f((xk .+ a .* dk)...)\n",
    "    while(pa>p0+e*a*pd0)\n",
    "        a = t*a\n",
    "        pa=f((xk .+ a .* dk)...)\n",
    "    end\n",
    "    return a\n",
    "end"
   ]
  },
  {
   "cell_type": "code",
   "execution_count": 75,
   "metadata": {},
   "outputs": [
    {
     "data": {
      "text/plain": [
       "gradient_descent (generic function with 1 method)"
      ]
     },
     "execution_count": 75,
     "metadata": {},
     "output_type": "execute_result"
    }
   ],
   "source": [
    "#####################梯度下降法#######################\n",
    "function gradient_descent(f, g, x0; a0=0.1,\n",
    "        eg=0.0001, ex=0.0001, ef=0.0001, maxIterations=128, verbose=true)\n",
    "    x1 = x0\n",
    "    d  = -g(x1...)\n",
    "    f1 = f(x1...)\n",
    "    ng = norm(d)\n",
    "    # inexact method for a\n",
    "    a  = inexact_method(f, g, f1, -ng'*ng, x1, d)\n",
    "    x2 = x1 + a .* d\n",
    "    f2 = f(x2...)\n",
    "    nx = a*ng\n",
    "    ni = 1\n",
    "    while( ng>eg || nx>ex || abs(f2-f1)>ef && ni<maxIterations)\n",
    "        x1 = x2\n",
    "        d  =-g(x1...)\n",
    "        ng = norm(d)\n",
    "        f1 = f2\n",
    "        a  = inexact_method(f, g, f1, -ng'*ng, x1, d)\n",
    "        x2 = x1 + a .* d\n",
    "        f2 = f(x2...)\n",
    "        nx = a*ng\n",
    "        ni += 1\n",
    "        if verbose\n",
    "            println(\"Step \",ni, \" x \", x2 ,\" f \",f2)\n",
    "            println(\"      d\",d ,\" a \",a)\n",
    "        end\n",
    "    end\n",
    "    if ni >= maxIterations\n",
    "        println(\"WARNING: Iterations exceeds \",maxIterations)\n",
    "    else\n",
    "        println(\"LOG:iteration converges after\", ni, \"step\")\n",
    "    end\n",
    "    return x2, f2\n",
    "end"
   ]
  },
  {
   "cell_type": "code",
   "execution_count": 76,
   "metadata": {},
   "outputs": [
    {
     "name": "stdout",
     "output_type": "stream",
     "text": [
      "WARNING: Iterations exceeds 128\n"
     ]
    },
    {
     "data": {
      "text/plain": [
       "([0.999898; 0.999795], 1.046059921951776e-8)"
      ]
     },
     "execution_count": 76,
     "metadata": {},
     "output_type": "execute_result"
    }
   ],
   "source": [
    "gradient_descent(\n",
    "    (x,y)->(1-x)^2+100(y-x^2)^2,\n",
    "    (x,y)->[-400x*(y-x^2)+2*x-2 ; 200y-200x^2],\n",
    "    [-2 2]', eg=0.0001, ex=0.0001, ef=0.0001, maxIterations=128, verbose=false)"
   ]
  },
  {
   "cell_type": "code",
   "execution_count": 1,
   "metadata": {},
   "outputs": [
    {
     "data": {
      "text/plain": [
       "Newton (generic function with 3 methods)"
      ]
     },
     "execution_count": 1,
     "metadata": {},
     "output_type": "execute_result"
    }
   ],
   "source": [
    "###################牛顿法####################\n",
    "function Newton( f, g, h, x0, e=0.0001, verbose=true)\n",
    "    x1=x0\n",
    "    g1=g(x1...)\n",
    "    ni=0\n",
    "    f1=f(x1...)\n",
    "    while(norm(g1)>=e)\n",
    "        h1=h(x1...)\n",
    "        if norm(h1)>0\n",
    "            x2=x1-inv(h1)*g1\n",
    "            x1=x2\n",
    "            f1=f(x1...)\n",
    "            g1=g(x1...)\n",
    "            ni +=1\n",
    "            if verbose\n",
    "                println(\"Step \",ni, \" x= \", x1 )\n",
    "                println(\" f= \",f1,\" g= \",g1)\n",
    "            end \n",
    "            else println(\"H is not positive definite matrix.\")\n",
    "        end\n",
    "    end\n",
    "    return x1,f1,g1\n",
    "end"
   ]
  },
  {
   "cell_type": "code",
   "execution_count": 2,
   "metadata": {},
   "outputs": [
    {
     "name": "stdout",
     "output_type": "stream",
     "text": [
      "Step 1 x= [-1.99252; 3.97007]\n",
      " f= 8.955168502514422 g= [-6.02965, -0.011194]\n",
      "Step 2 x= [0.966873; -7.82315]\n",
      " f= 7670.252979776174 g= [3387.08, -1751.6]\n",
      "Step 3 x= [0.966892; 0.934879]\n",
      " f= 0.001096166665157438 g= [-0.0662167, -7.14555e-8]\n",
      "Step 4 x= [1.0; 0.998904]\n",
      " f= 0.0001201581014363651 g= [0.438467, -0.219233]\n",
      "Step 5 x= [1.0; 1.0]\n",
      " f= 1.8097993700064961e-19 g= [-8.50746e-10, -5.68434e-14]\n"
     ]
    },
    {
     "data": {
      "text/plain": [
       "([1.0; 1.0], 1.8097993700064961e-19, [-8.50746e-10, -5.68434e-14])"
      ]
     },
     "execution_count": 2,
     "metadata": {},
     "output_type": "execute_result"
    }
   ],
   "source": [
    "Newton(\n",
    "    (x,y)->(1-x)^2+100(y-x^2)^2,\n",
    "    (x,y)->[-400x*(y-x^2)+2*x-2 ; 200y-200x^2],\n",
    "    (x,y)->[2+800x^2-400(y-x^2) -400x; -400x 200]',\n",
    "    [-2 2]'\n",
    ")"
   ]
  },
  {
   "cell_type": "code",
   "execution_count": null,
   "metadata": {},
   "outputs": [],
   "source": [
    "x=1\n",
    "y=2\n",
    "[2(x-1)-400*x*(y-x^2) 200(y-x^2)]'"
   ]
  },
  {
   "cell_type": "code",
   "execution_count": 3,
   "metadata": {},
   "outputs": [
    {
     "data": {
      "text/plain": [
       "Levenberg_Marquardt (generic function with 3 methods)"
      ]
     },
     "execution_count": 3,
     "metadata": {},
     "output_type": "execute_result"
    }
   ],
   "source": [
    "############Levenberg_Marquardt改进算法################\n",
    "function Levenberg_Marquardt( f, g, h, x0, r,e=0.0001, verbose=true)\n",
    "    x1=x0\n",
    "    g1=g(x1...)\n",
    "    ni=0\n",
    "    f1=f(x1...)\n",
    "    while(norm(g1)>=e)\n",
    "        h1=h(x1...)\n",
    "        if norm(h1)>0\n",
    "            x2=x1-inv(h1)*g1\n",
    "            x1=x2\n",
    "            f1=f(x1...)\n",
    "            g1=g(x1...)\n",
    "            ni +=1\n",
    "            if verbose\n",
    "                println(\"Step \",ni, \" x= \", x1 )\n",
    "                println(\" f= \",f1,\" g= \",g1)\n",
    "            end \n",
    "        else \n",
    "            x2=x1-inv(h1+r*eye(h1))*g1\n",
    "            x1=x2\n",
    "            f1=f(x1...)\n",
    "            g1=g(x1...)\n",
    "            ni+=1\n",
    "            if verbose\n",
    "                println(\"Step \",ni, \" x= \", x1 )\n",
    "                println(\" f= \",f1,\" g= \",g1)\n",
    "            end\n",
    "        end\n",
    "    end\n",
    "    return x1,f1,g1\n",
    "end"
   ]
  },
  {
   "cell_type": "code",
   "execution_count": 4,
   "metadata": {},
   "outputs": [
    {
     "name": "stdout",
     "output_type": "stream",
     "text": [
      "Step 1 x= [-1.99252; 3.97007]\n",
      " f= 8.955168502514422 g= [-6.02965, -0.011194]\n",
      "Step 2 x= [0.966873; -7.82315]\n",
      " f= 7670.252979776174 g= [3387.08, -1751.6]\n",
      "Step 3 x= [0.966892; 0.934879]\n",
      " f= 0.001096166665157438 g= [-0.0662167, -7.14555e-8]\n",
      "Step 4 x= [1.0; 0.998904]\n",
      " f= 0.0001201581014363651 g= [0.438467, -0.219233]\n",
      "Step 5 x= [1.0; 1.0]\n",
      " f= 1.8097993700064961e-19 g= [-8.50746e-10, -5.68434e-14]\n"
     ]
    },
    {
     "data": {
      "text/plain": [
       "([1.0; 1.0], 1.8097993700064961e-19, [-8.50746e-10, -5.68434e-14])"
      ]
     },
     "execution_count": 4,
     "metadata": {},
     "output_type": "execute_result"
    }
   ],
   "source": [
    "Levenberg_Marquardt(\n",
    "    (x,y)->(1-x)^2+100(y-x^2)^2,\n",
    "    (x,y)->[-400x*(y-x^2)+2*x-2 ; 200y-200x^2],\n",
    "    (x,y)->[2+800x^2-400(y-x^2) -400x; -400x 200]',\n",
    "    [-2 2]',\n",
    "    100000\n",
    ")"
   ]
  }
 ],
 "metadata": {
  "kernelspec": {
   "display_name": "Julia 0.6.2",
   "language": "julia",
   "name": "julia-0.6"
  },
  "language_info": {
   "file_extension": ".jl",
   "mimetype": "application/julia",
   "name": "julia",
   "version": "0.6.2"
  }
 },
 "nbformat": 4,
 "nbformat_minor": 2
}
